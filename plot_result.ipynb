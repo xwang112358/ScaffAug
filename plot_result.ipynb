{
 "cells": [
  {
   "cell_type": "markdown",
   "metadata": {},
   "source": [
    "## Random Result"
   ]
  },
  {
   "cell_type": "code",
   "execution_count": 39,
   "metadata": {},
   "outputs": [],
   "source": [
    "import pandas as pd"
   ]
  },
  {
   "cell_type": "code",
   "execution_count": 40,
   "metadata": {},
   "outputs": [],
   "source": [
    "split = 'random_cv2'\n",
    "\n",
    "baseline_result = pd.read_csv(f'results/gcn_finetuning_AID1798_{split}_20241204_013118.csv')\n",
    "scaffaug_result = pd.read_csv(f'results/scaffaug_gcn_finetuning_AID1798_{split}_0.1_20241203_224253.csv')"
   ]
  },
  {
   "cell_type": "code",
   "execution_count": 41,
   "metadata": {},
   "outputs": [],
   "source": [
    "# get the top 3 test_logAUC, test_EF, test_DCG, test_BEDROC separately\n",
    "baseline_top3_logauc = baseline_result.sort_values(by='test_logAUC', ascending=False).head(3)\n",
    "baseline_top3_ef = baseline_result.sort_values(by='test_EF', ascending=False).head(3)\n",
    "baseline_top3_dcg = baseline_result.sort_values(by='test_DCG', ascending=False).head(3)\n",
    "baseline_top3_bedroc = baseline_result.sort_values(by='test_BEDROC', ascending=False).head(3)\n",
    "scaffaug_top3_logauc = scaffaug_result.sort_values(by='test_logAUC', ascending=False).head(3)\n",
    "scaffaug_top3_ef = scaffaug_result.sort_values(by='test_EF', ascending=False).head(3)\n",
    "scaffaug_top3_dcg = scaffaug_result.sort_values(by='test_DCG', ascending=False).head(3)\n",
    "scaffaug_top3_bedroc = scaffaug_result.sort_values(by='test_BEDROC', ascending=False).head(3)\n"
   ]
  },
  {
   "cell_type": "code",
   "execution_count": 42,
   "metadata": {},
   "outputs": [],
   "source": [
    "baseline_logauc = baseline_top3_logauc['test_logAUC'].mean()\n",
    "scaffaug_logauc = scaffaug_top3_logauc['test_logAUC'].mean()\n",
    "# calculate the standard deviation\n",
    "baseline_logauc_std = baseline_top3_logauc['test_logAUC'].std()\n",
    "scaffaug_logauc_std = scaffaug_top3_logauc['test_logAUC'].std()"
   ]
  },
  {
   "cell_type": "code",
   "execution_count": 43,
   "metadata": {},
   "outputs": [
    {
     "name": "stdout",
     "output_type": "stream",
     "text": [
      "Baseline logAUC: 0.1114, ScaffAug logAUC: 0.1142\n",
      "Baseline logAUC std: 0.0014, ScaffAug logAUC std: 0.0011\n"
     ]
    }
   ],
   "source": [
    "print(f'Baseline logAUC: {baseline_logauc:.4f}, ScaffAug logAUC: {scaffaug_logauc:.4f}')\n",
    "print(f'Baseline logAUC std: {baseline_logauc_std:.4f}, ScaffAug logAUC std: {scaffaug_logauc_std:.4f}')\n"
   ]
  },
  {
   "cell_type": "markdown",
   "metadata": {},
   "source": [
    "## Scaffold"
   ]
  },
  {
   "cell_type": "code",
   "execution_count": 66,
   "metadata": {},
   "outputs": [],
   "source": [
    "split = 'scaffold_seed2'\n",
    "topk = 3\n",
    "\n",
    "baseline_result = pd.read_csv(f'results/gcn_finetuning_AID1798_{split}_20241204_044858.csv')\n",
    "scaffaug_result = pd.read_csv(f'results/scaffaug_gcn_finetuning_AID1798_{split}_0.1_20241204_002224.csv')\n",
    "baseline_topk_logauc = baseline_result.sort_values(by='test_logAUC', ascending=False).head(topk)\n",
    "scaffaug_topk_logauc = scaffaug_result.sort_values(by='test_logAUC', ascending=False).head(topk)\n",
    "baseline_topk_ef = baseline_result.sort_values(by='test_EF', ascending=False).head(topk)\n",
    "scaffaug_topk_ef = scaffaug_result.sort_values(by='test_EF', ascending=False).head(topk)\n",
    "baseline_topk_dcg = baseline_result.sort_values(by='test_DCG', ascending=False).head(topk)\n",
    "scaffaug_topk_dcg = scaffaug_result.sort_values(by='test_DCG', ascending=False).head(topk)\n",
    "baseline_topk_bedroc = baseline_result.sort_values(by='test_BEDROC', ascending=False).head(topk)\n",
    "scaffaug_topk_bedroc = scaffaug_result.sort_values(by='test_BEDROC', ascending=False).head(topk)\n"
   ]
  },
  {
   "cell_type": "code",
   "execution_count": 67,
   "metadata": {},
   "outputs": [
    {
     "name": "stdout",
     "output_type": "stream",
     "text": [
      "Baseline logAUC: 0.0877, ScaffAug logAUC: 0.0775\n",
      "Baseline logAUC std: 0.0053, ScaffAug logAUC std: 0.0066\n",
      "Baseline EF: 4.4970, ScaffAug EF: 4.4970\n",
      "Baseline EF std: 1.9473, ScaffAug EF std: 1.9473\n",
      "Baseline DCG: 0.3254, ScaffAug DCG: 0.3900\n",
      "Baseline DCG std: 0.1254, ScaffAug DCG std: 0.2156\n",
      "Baseline BEDROC: 0.1729, ScaffAug BEDROC: 0.1562\n",
      "Baseline BEDROC std: 0.0058, ScaffAug BEDROC std: 0.0130\n"
     ]
    }
   ],
   "source": [
    "baseline_logauc = baseline_topk_logauc['test_logAUC'].mean()\n",
    "scaffaug_logauc = scaffaug_topk_logauc['test_logAUC'].mean()\n",
    "baseline_logauc_std = baseline_topk_logauc['test_logAUC'].std()\n",
    "scaffaug_logauc_std = scaffaug_topk_logauc['test_logAUC'].std()\n",
    "# ef\n",
    "baseline_ef = baseline_topk_ef['test_EF'].mean()\n",
    "scaffaug_ef = scaffaug_topk_ef['test_EF'].mean()\n",
    "baseline_ef_std = baseline_topk_ef['test_EF'].std()\n",
    "scaffaug_ef_std = scaffaug_topk_ef['test_EF'].std()\n",
    "# dcg\n",
    "baseline_dcg = baseline_topk_dcg['test_DCG'].mean()\n",
    "scaffaug_dcg = scaffaug_topk_dcg['test_DCG'].mean()\n",
    "baseline_dcg_std = baseline_topk_dcg['test_DCG'].std()\n",
    "scaffaug_dcg_std = scaffaug_topk_dcg['test_DCG'].std()\n",
    "# bedroc\n",
    "baseline_bedroc = baseline_topk_bedroc['test_BEDROC'].mean()\n",
    "scaffaug_bedroc = scaffaug_topk_bedroc['test_BEDROC'].mean()\n",
    "baseline_bedroc_std = baseline_topk_bedroc['test_BEDROC'].std()\n",
    "scaffaug_bedroc_std = scaffaug_topk_bedroc['test_BEDROC'].std()\n",
    "\n",
    "print(f'Baseline logAUC: {baseline_logauc:.4f}, ScaffAug logAUC: {scaffaug_logauc:.4f}')\n",
    "print(f'Baseline logAUC std: {baseline_logauc_std:.4f}, ScaffAug logAUC std: {scaffaug_logauc_std:.4f}')\n",
    "print(f'Baseline EF: {baseline_ef:.4f}, ScaffAug EF: {scaffaug_ef:.4f}')\n",
    "print(f'Baseline EF std: {baseline_ef_std:.4f}, ScaffAug EF std: {scaffaug_ef_std:.4f}')\n",
    "print(f'Baseline DCG: {baseline_dcg:.4f}, ScaffAug DCG: {scaffaug_dcg:.4f}')\n",
    "print(f'Baseline DCG std: {baseline_dcg_std:.4f}, ScaffAug DCG std: {scaffaug_dcg_std:.4f}')\n",
    "print(f'Baseline BEDROC: {baseline_bedroc:.4f}, ScaffAug BEDROC: {scaffaug_bedroc:.4f}')\n",
    "print(f'Baseline BEDROC std: {baseline_bedroc_std:.4f}, ScaffAug BEDROC std: {scaffaug_bedroc_std:.4f}')"
   ]
  },
  {
   "cell_type": "code",
   "execution_count": null,
   "metadata": {},
   "outputs": [],
   "source": []
  }
 ],
 "metadata": {
  "kernelspec": {
   "display_name": "digress",
   "language": "python",
   "name": "python3"
  },
  "language_info": {
   "codemirror_mode": {
    "name": "ipython",
    "version": 3
   },
   "file_extension": ".py",
   "mimetype": "text/x-python",
   "name": "python",
   "nbconvert_exporter": "python",
   "pygments_lexer": "ipython3",
   "version": "3.9.19"
  }
 },
 "nbformat": 4,
 "nbformat_minor": 2
}
